{
  "cells": [
    {
      "cell_type": "code",
      "execution_count": 42,
      "metadata": {
        "id": "aCc7rrAf_bht"
      },
      "outputs": [],
      "source": [
        "import tensorflow as tf\n",
        "import cv2\n",
        "import numpy as np\n",
        "import matplotlib.pyplot as plt\n",
        "from tqdm import tqdm\n",
        "from pandas import read_csv\n",
        "from sklearn import preprocessing\n",
        "from sklearn.model_selection import train_test_split\n",
        "from sklearn.metrics import classification_report\n",
        "from sklearn.utils import class_weight\n",
        "import math\n",
        "import gc\n"
      ]
    },
    {
      "cell_type": "code",
      "execution_count": 2,
      "metadata": {
        "id": "jbTW9AFI_bhy"
      },
      "outputs": [],
      "source": [
        "model_name = \"model_large\"\n",
        "img_width = 200\n",
        "img_height = 66\n",
        "img_channels = 3\n",
        "model_file = \"models/{}-{}x{}x{}\".format(model_name[6:], img_width, img_height, img_channels)\n"
      ]
    },
    {
      "cell_type": "code",
      "execution_count": 29,
      "metadata": {
        "id": "ZWRpmsKA_bhz",
        "outputId": "9fa88407-9948-4f59-82d5-66e1be8ef72c",
        "colab": {
          "resources": {
            "http://localhost:8080/nbextensions/google.colab/files.js": {
              "data": "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",
              "ok": true,
              "headers": [
                [
                  "content-type",
                  "application/javascript"
                ]
              ],
              "status": 200,
              "status_text": ""
            }
          },
          "base_uri": "https://localhost:8080/",
          "height": 73
        }
      },
      "outputs": [
        {
          "output_type": "stream",
          "name": "stdout",
          "text": [
            "in colab\n"
          ]
        },
        {
          "output_type": "display_data",
          "data": {
            "text/plain": [
              "<IPython.core.display.HTML object>"
            ],
            "text/html": [
              "\n",
              "     <input type=\"file\" id=\"files-7af25046-dddc-440b-bf9a-28cb94a8bf82\" name=\"files[]\" multiple disabled\n",
              "        style=\"border:none\" />\n",
              "     <output id=\"result-7af25046-dddc-440b-bf9a-28cb94a8bf82\">\n",
              "      Upload widget is only available when the cell has been executed in the\n",
              "      current browser session. Please rerun this cell to enable.\n",
              "      </output>\n",
              "      <script src=\"/nbextensions/google.colab/files.js\"></script> "
            ]
          },
          "metadata": {}
        },
        {
          "output_type": "stream",
          "name": "stdout",
          "text": [
            "unzip Dataset.zip into dataset folder\n"
          ]
        }
      ],
      "source": [
        "import requests \n",
        "import os\n",
        "import zipfile\n",
        "\n",
        "dataset_dir = \"dataset\"\n",
        "dataset_zipfile = 'Dataset.zip'\n",
        "RunningInCOLAB = 'google.colab' in str(get_ipython())\n",
        "force_unzip = True\n",
        "\n",
        "if RunningInCOLAB: \n",
        "    print(\"in colab\")\n",
        "    from google.colab import files\n",
        "    uploaded = files.upload()\n",
        "    for fn in uploaded.keys():\n",
        "        print('User uploaded file \"{name}\" with length {length} bytes'.format(\n",
        "            name=fn, length=len(uploaded[fn])))\n",
        "        dataset_zipfile = fn  # expecting a zip file to be uploaded. \n",
        "else:\n",
        "    print (\"not in colab\")\n",
        "    # RPI_IP=None # replace this with the IP address of your raspberry pi \n",
        "    # if RPI_IP is not None:\n",
        "    #     URL=\"http://\"+RPI_IP+\":8000/\"+dataset_zipfile\n",
        "    #     filename=URL.split('/')[-1]\n",
        "    #     r = requests.get(URL)\n",
        "    #     open(filename, 'wb').write(r.content)\n",
        "\n",
        "if not os.path.isfile(dataset_zipfile):\n",
        "    default_dataset_URL = \"https://raw.githubusercontent.com/heechul/DeepPicar-v3/devel/Dataset-kucsl-Apr2022.zip\"    \n",
        "    print (\"No existing dataset. download from \", default_dataset_URL)\n",
        "    r = requests.get(default_dataset_URL)\n",
        "    open(dataset_zipfile, 'wb').write(r.content)\n",
        "\n",
        "if not os.path.isdir(dataset_dir) or force_unzip==True:\n",
        "    print ('unzip %s into %s folder' % (dataset_zipfile, dataset_dir))\n",
        "    zip_ref = zipfile.ZipFile(dataset_zipfile)\n",
        "    zip_ref.extractall(dataset_dir)"
      ]
    },
    {
      "cell_type": "code",
      "source": [
        "import shutil\n",
        "\n",
        "# This function force deletes a folder in colab,\n",
        "# since colab does not allow deleting non empty folders\n",
        "shutil.rmtree('Dataset')"
      ],
      "metadata": {
        "id": "9TtB2pREZCkD"
      },
      "execution_count": 33,
      "outputs": []
    },
    {
      "cell_type": "code",
      "execution_count": 4,
      "metadata": {
        "id": "0Xtq8bdW_bh1"
      },
      "outputs": [],
      "source": [
        "from keras import layers\n",
        "\n",
        "# DNN model is defined here, sequential models\n",
        "# can only link one layer to another at a time\n",
        "model = tf.keras.Sequential()\n",
        "# convolutional layers produce u filters using (v, w) kernel sizes (windows)\n",
        "# with (x, y) strides (movement)\n",
        "model.add(layers.Conv2D(24, (5,5), strides=(2,2), activation='relu', input_shape=(img_height,img_width,img_channels)))\n",
        "model.add(layers.Conv2D(36, (5,5), strides=(2,2), activation='relu'))\n",
        "model.add(layers.Conv2D(48, (5,5), strides=(2,2), activation='relu'))\n",
        "model.add(layers.Conv2D(64, (3,3), activation='relu'))\n",
        "model.add(layers.Conv2D(64, (3,3), activation='relu'))\n",
        "# flatten makes 2d convolution into one big array of simple neurons\n",
        "model.add(layers.Flatten())\n",
        "# dense layers have all outputs connected to all inputs\n",
        "model.add(layers.Dense(100, activation='relu'))\n",
        "model.add(layers.Dense(50, activation='relu'))\n",
        "model.add(layers.Dense(10, activation='relu'))\n",
        "model.add(layers.Dense(1))"
      ]
    },
    {
      "cell_type": "code",
      "execution_count": 34,
      "metadata": {
        "id": "xqRTyLO7_bh2",
        "outputId": "1d1912eb-4602-48f2-f4ae-55efb203c209",
        "colab": {
          "base_uri": "https://localhost:8080/"
        }
      },
      "outputs": [
        {
          "output_type": "stream",
          "name": "stdout",
          "text": [
            "dataset/out-video (3).avi dataset/out-key (3).csv\n",
            "dataset/out-video.avi dataset/out-key.csv\n",
            "dataset/out-video (1).avi dataset/out-key (1).csv\n",
            "Loaded 6033 smaples\n"
          ]
        }
      ],
      "source": [
        "# Train/test data lists\n",
        "imgs = []\n",
        "vals = []\n",
        "\n",
        "import glob\n",
        "for vid_file_path in glob.iglob(f'{dataset_dir}/*.avi'):\n",
        "    csv_file_path = vid_file_path.replace('video', 'key').replace('avi', 'csv')\n",
        "    print(vid_file_path, csv_file_path)\n",
        "\n",
        "    vid = cv2.VideoCapture(vid_file_path)\n",
        "    ret,img = vid.read()\n",
        "    while(ret):\n",
        "        # Convert to grayscale and readd channel dimension\n",
        "        if img_channels == 1:\n",
        "            img = cv2.cvtColor(img, cv2.COLOR_BGR2GRAY)\n",
        "            img = cv2.resize(img, (img_width, img_height))\n",
        "            img = np.reshape(img, (img_height, img_width, img_channels))\n",
        "        # For RGB, just need to resize image\n",
        "        else:\n",
        "            img = cv2.resize(img, (img_width, img_height))\n",
        "        img = img / 255.\n",
        "        imgs.append(img)\n",
        "        ret,img = vid.read()\n",
        "    df = read_csv(csv_file_path)\n",
        "    temp = np.asarray(df[\"wheel\"].values)\n",
        "    vals.extend(temp)\n",
        "    # print(len(imgs), len(vals))    \n",
        "\n",
        "# Convert lists to numpy arrays and ensure they are of equal length    \n",
        "imgs = np.asarray(imgs)  # input images\n",
        "vals = np.asarray(vals)  # steering angles\n",
        "assert len(imgs) == len(vals)\n",
        "print(\"Loaded {} smaples\".format(len(imgs)))"
      ]
    },
    {
      "cell_type": "code",
      "execution_count": 35,
      "metadata": {
        "id": "or57Llho_bh3",
        "outputId": "e06cc515-20ba-459c-a7ca-4300a210f823",
        "colab": {
          "base_uri": "https://localhost:8080/"
        }
      },
      "outputs": [
        {
          "output_type": "stream",
          "name": "stdout",
          "text": [
            "Train/Test\n"
          ]
        },
        {
          "output_type": "execute_result",
          "data": {
            "text/plain": [
              "22756"
            ]
          },
          "metadata": {},
          "execution_count": 35
        }
      ],
      "source": [
        "# Split the dataset for train and test \n",
        "print(\"Train/Test\")\n",
        "# label encoder changes the labels (output) into a integers 0, 1, 2...\n",
        "# this normalizes the output for the network so each outputs are treated the same\n",
        "le = preprocessing.LabelEncoder()\n",
        "vals = le.fit_transform(vals)\n",
        "\n",
        "# train_test_split splits the data into a training set and a test set\n",
        "# we do this because we want to check our network against test data it has\n",
        "# not seen before\n",
        "x_train, x_test, y_train, y_test = train_test_split(imgs, vals, test_size=0.25)\n",
        "del vals\n",
        "gc.collect()"
      ]
    },
    {
      "cell_type": "code",
      "execution_count": 37,
      "metadata": {
        "id": "lTiB_kjw_bh3",
        "outputId": "c88bb8d5-8dac-4d96-be5b-dc8c9f5ba3af",
        "colab": {
          "base_uri": "https://localhost:8080/"
        }
      },
      "outputs": [
        {
          "output_type": "stream",
          "name": "stdout",
          "text": [
            "Model compile\n",
            "Model: \"sequential\"\n",
            "_________________________________________________________________\n",
            " Layer (type)                Output Shape              Param #   \n",
            "=================================================================\n",
            " conv2d (Conv2D)             (None, 31, 98, 24)        1824      \n",
            "                                                                 \n",
            " conv2d_1 (Conv2D)           (None, 14, 47, 36)        21636     \n",
            "                                                                 \n",
            " conv2d_2 (Conv2D)           (None, 5, 22, 48)         43248     \n",
            "                                                                 \n",
            " conv2d_3 (Conv2D)           (None, 3, 20, 64)         27712     \n",
            "                                                                 \n",
            " conv2d_4 (Conv2D)           (None, 1, 18, 64)         36928     \n",
            "                                                                 \n",
            " flatten (Flatten)           (None, 1152)              0         \n",
            "                                                                 \n",
            " dense (Dense)               (None, 100)               115300    \n",
            "                                                                 \n",
            " dense_1 (Dense)             (None, 50)                5050      \n",
            "                                                                 \n",
            " dense_2 (Dense)             (None, 10)                510       \n",
            "                                                                 \n",
            " dense_3 (Dense)             (None, 1)                 11        \n",
            "                                                                 \n",
            "=================================================================\n",
            "Total params: 252,219\n",
            "Trainable params: 252,219\n",
            "Non-trainable params: 0\n",
            "_________________________________________________________________\n"
          ]
        }
      ],
      "source": [
        "print (\"Model compile\")\n",
        "# the optimizer defines how we train the model\n",
        "# Adam is an optimizer than handles how we randomly move during\n",
        "# the optimization process\n",
        "# the number we pass in here (0.0001) is the initial learning rate\n",
        "# it determines how much of the weight we change, so how quickly we move\n",
        "# around the space\n",
        "optimizer = tf.keras.optimizers.Adam(1e-4)\n",
        "\n",
        "# this is for when we want to continue training an existing model\n",
        "# existing models are saved in a .h5 file\n",
        "if os.path.isfile(model_file+\".h5\"):\n",
        "    model = tf.keras.models.load_model(model_file+\".h5\")\n",
        "    optimizer = optimizer=tf.keras.optimizers.Adam(5e-5)\n",
        "# the loss function is how we calculate how closely our model's outputs\n",
        "# are to the ground truth\n",
        "# common loss functions are Mean Absolute Error (MAE), Mean Squared Error (MSE),\n",
        "# and Huber Loss\n",
        "model.compile(optimizer=optimizer,\n",
        "                loss='huber', metrics=['mae'])\n",
        "model.summary()"
      ]
    },
    {
      "cell_type": "code",
      "execution_count": 43,
      "metadata": {
        "id": "QWnnAQuK_bh4",
        "outputId": "48522203-4c46-40b4-fdb0-af5db1eb5d34",
        "colab": {
          "base_uri": "https://localhost:8080/",
          "height": 1000
        }
      },
      "outputs": [
        {
          "output_type": "stream",
          "name": "stdout",
          "text": [
            "Model fit\n",
            "Epoch 1/20\n",
            "71/71 [==============================] - 22s 306ms/step - loss: 0.1033 - mae: 0.3312 - val_loss: 0.0990 - val_mae: 0.3551\n",
            "Epoch 2/20\n",
            "71/71 [==============================] - 22s 305ms/step - loss: 0.0963 - mae: 0.3307 - val_loss: 0.0907 - val_mae: 0.3344\n",
            "Epoch 3/20\n",
            "71/71 [==============================] - 22s 306ms/step - loss: 0.0903 - mae: 0.3216 - val_loss: 0.0882 - val_mae: 0.3217\n",
            "Epoch 4/20\n",
            "71/71 [==============================] - 22s 305ms/step - loss: 0.0844 - mae: 0.3123 - val_loss: 0.0815 - val_mae: 0.3130\n",
            "Epoch 5/20\n",
            "71/71 [==============================] - 22s 306ms/step - loss: 0.0814 - mae: 0.3072 - val_loss: 0.0817 - val_mae: 0.3134\n",
            "Epoch 6/20\n",
            "71/71 [==============================] - 22s 308ms/step - loss: 0.0788 - mae: 0.3018 - val_loss: 0.0791 - val_mae: 0.3048\n",
            "Epoch 7/20\n",
            "71/71 [==============================] - 22s 303ms/step - loss: 0.0761 - mae: 0.2988 - val_loss: 0.0796 - val_mae: 0.2997\n",
            "Epoch 8/20\n",
            "71/71 [==============================] - 22s 305ms/step - loss: 0.0716 - mae: 0.2880 - val_loss: 0.0768 - val_mae: 0.2909\n",
            "Epoch 9/20\n",
            "71/71 [==============================] - 21s 302ms/step - loss: 0.0686 - mae: 0.2812 - val_loss: 0.0882 - val_mae: 0.3167\n",
            "Epoch 10/20\n",
            "71/71 [==============================] - 21s 303ms/step - loss: 0.0679 - mae: 0.2804 - val_loss: 0.0730 - val_mae: 0.2895\n",
            "Epoch 11/20\n",
            "71/71 [==============================] - 23s 326ms/step - loss: 0.0652 - mae: 0.2752 - val_loss: 0.0770 - val_mae: 0.2950\n",
            "Epoch 12/20\n",
            "71/71 [==============================] - 22s 312ms/step - loss: 0.0625 - mae: 0.2700 - val_loss: 0.0741 - val_mae: 0.2895\n",
            "Epoch 13/20\n",
            "71/71 [==============================] - 22s 307ms/step - loss: 0.0600 - mae: 0.2640 - val_loss: 0.0748 - val_mae: 0.2865\n",
            "Epoch 14/20\n",
            "71/71 [==============================] - 22s 305ms/step - loss: 0.0615 - mae: 0.2660 - val_loss: 0.0679 - val_mae: 0.2743\n",
            "Epoch 15/20\n",
            "71/71 [==============================] - 22s 306ms/step - loss: 0.0579 - mae: 0.2588 - val_loss: 0.0701 - val_mae: 0.2715\n",
            "Epoch 16/20\n",
            "71/71 [==============================] - 22s 308ms/step - loss: 0.0561 - mae: 0.2544 - val_loss: 0.0694 - val_mae: 0.2723\n",
            "Epoch 17/20\n",
            "71/71 [==============================] - 22s 309ms/step - loss: 0.0560 - mae: 0.2525 - val_loss: 0.0653 - val_mae: 0.2660\n",
            "Epoch 18/20\n",
            "71/71 [==============================] - 22s 306ms/step - loss: 0.0526 - mae: 0.2454 - val_loss: 0.0675 - val_mae: 0.2657\n",
            "Epoch 19/20\n",
            "71/71 [==============================] - 22s 309ms/step - loss: 0.0513 - mae: 0.2423 - val_loss: 0.0647 - val_mae: 0.2598\n",
            "Epoch 20/20\n",
            "71/71 [==============================] - 22s 307ms/step - loss: 0.0509 - mae: 0.2424 - val_loss: 0.0710 - val_mae: 0.2739\n",
            "dict_keys(['loss', 'mae', 'val_loss', 'val_mae'])\n"
          ]
        },
        {
          "output_type": "display_data",
          "data": {
            "text/plain": [
              "<Figure size 432x288 with 1 Axes>"
            ],
            "image/png": "[encoded data removed]"
          },
          "metadata": {
            "needs_background": "light"
          }
        }
      ],
      "source": [
        "print (\"Model fit\")\n",
        "\n",
        "# In case our training data is not balanced\n",
        "# say we have data for 2 left turn, 4 right turn, and 20 center,\n",
        "# In that case, we don't want the center data to drown out the left and right data\n",
        "# Balanced class weights give more priority to sparse data to ensure they have\n",
        "# just as much impact on our model\n",
        "class_weights = class_weight.compute_class_weight(class_weight = 'balanced', classes = np.unique(y_train), y = y_train)\n",
        "class_weights = dict(zip(np.unique(y_train), class_weights))\n",
        "\n",
        "# This trains the model\n",
        "history = model.fit(x_train, y_train, batch_size=64,\n",
        "                    epochs=20, validation_data=(x_test, y_test), class_weight=class_weights)\n",
        "# Plot training and validation losses \n",
        "print(history.history.keys())\n",
        "plt.plot(history.history['loss'])\n",
        "plt.plot(history.history['val_loss'])\n",
        "plt.title('model loss')\n",
        "plt.ylabel('loss')\n",
        "plt.xlabel('epoch')\n",
        "plt.legend(['train', 'test'], loc='upper left')\n",
        "plt.show()"
      ]
    },
    {
      "cell_type": "code",
      "execution_count": 44,
      "metadata": {
        "id": "7_YUNOi6_bh5"
      },
      "outputs": [],
      "source": [
        "# This function gives us a more readable output\n",
        "def get_action(label):\n",
        "  if label < 0.5:\n",
        "    return \"left\"\n",
        "  elif label >= 0.5 and label <= 1.5:\n",
        "    return \"center\"\n",
        "  elif label > 1.5:\n",
        "    return \"right\""
      ]
    },
    {
      "cell_type": "code",
      "execution_count": 45,
      "metadata": {
        "id": "Wr0cJUZM_bh6",
        "outputId": "9195a8e4-c2e8-4b92-c521-4b3fe3fc9674",
        "colab": {
          "base_uri": "https://localhost:8080/"
        }
      },
      "outputs": [
        {
          "output_type": "stream",
          "name": "stdout",
          "text": [
            "Accuracy is 0.825\n",
            "              precision    recall  f1-score   support\n",
            "\n",
            "      center       0.74      0.89      0.81       626\n",
            "        left       0.91      0.80      0.85       636\n",
            "       right       0.90      0.72      0.80       247\n",
            "\n",
            "    accuracy                           0.83      1509\n",
            "   macro avg       0.85      0.80      0.82      1509\n",
            "weighted avg       0.84      0.83      0.83      1509\n",
            "\n"
          ]
        }
      ],
      "source": [
        "pred = model.predict(x_test)\n",
        "pred = np.array(list(map(get_action, pred)))\n",
        "ground = np.array(list(map(get_action, y_test)))\n",
        "print('Accuracy is %.3f' % np.mean(pred == ground))\n",
        "print(classification_report(pred, ground))"
      ]
    },
    {
      "cell_type": "code",
      "execution_count": 46,
      "metadata": {
        "id": "oGhR6K0H_bh7",
        "outputId": "8ed6d277-da6c-45a3-c2c9-7b481021075d",
        "colab": {
          "base_uri": "https://localhost:8080/",
          "height": 121
        }
      },
      "outputs": [
        {
          "output_type": "stream",
          "name": "stdout",
          "text": [
            "Model Save\n",
            "TFLite Model\n",
            "INFO:tensorflow:Assets written to: /tmp/tmplryp7fq_/assets\n"
          ]
        },
        {
          "output_type": "stream",
          "name": "stderr",
          "text": [
            "INFO:tensorflow:Assets written to: /tmp/tmplryp7fq_/assets\n",
            "WARNING:absl:Buffer deduplication procedure will be skipped when flatbuffer library is not properly loaded\n"
          ]
        },
        {
          "output_type": "stream",
          "name": "stdout",
          "text": [
            "models/large-200x66x3.tflite is saved. copy this file to the robot\n"
          ]
        },
        {
          "output_type": "display_data",
          "data": {
            "text/plain": [
              "<IPython.core.display.Javascript object>"
            ],
            "application/javascript": [
              "\n",
              "    async function download(id, filename, size) {\n",
              "      if (!google.colab.kernel.accessAllowed) {\n",
              "        return;\n",
              "      }\n",
              "      const div = document.createElement('div');\n",
              "      const label = document.createElement('label');\n",
              "      label.textContent = `Downloading \"${filename}\": `;\n",
              "      div.appendChild(label);\n",
              "      const progress = document.createElement('progress');\n",
              "      progress.max = size;\n",
              "      div.appendChild(progress);\n",
              "      document.body.appendChild(div);\n",
              "\n",
              "      const buffers = [];\n",
              "      let downloaded = 0;\n",
              "\n",
              "      const channel = await google.colab.kernel.comms.open(id);\n",
              "      // Send a message to notify the kernel that we're ready.\n",
              "      channel.send({})\n",
              "\n",
              "      for await (const message of channel.messages) {\n",
              "        // Send a message to notify the kernel that we're ready.\n",
              "        channel.send({})\n",
              "        if (message.buffers) {\n",
              "          for (const buffer of message.buffers) {\n",
              "            buffers.push(buffer);\n",
              "            downloaded += buffer.byteLength;\n",
              "            progress.value = downloaded;\n",
              "          }\n",
              "        }\n",
              "      }\n",
              "      const blob = new Blob(buffers, {type: 'application/binary'});\n",
              "      const a = document.createElement('a');\n",
              "      a.href = window.URL.createObjectURL(blob);\n",
              "      a.download = filename;\n",
              "      div.appendChild(a);\n",
              "      a.click();\n",
              "      div.remove();\n",
              "    }\n",
              "  "
            ]
          },
          "metadata": {}
        },
        {
          "output_type": "display_data",
          "data": {
            "text/plain": [
              "<IPython.core.display.Javascript object>"
            ],
            "application/javascript": [
              "download(\"download_7409204a-f4cc-4884-95d7-7e408d83b877\", \"large-200x66x3.tflite\", 264640)"
            ]
          },
          "metadata": {}
        }
      ],
      "source": [
        "# Save both the Keras and TFLite models      \n",
        "print(\"Model Save\")                  \n",
        "model.save(model_file+\".h5\")\n",
        "\n",
        "print(\"TFLite Model\")\n",
        "converter = tf.lite.TFLiteConverter.from_keras_model(model)\n",
        "converter.optimizations = [tf.lite.Optimize.DEFAULT]\n",
        "# converter.target_spec.supported_types = [tf.float16]\n",
        "\n",
        "quantized_tflite_model = converter.convert()\n",
        "\n",
        "with open(model_file+\".tflite\", 'wb') as f:\n",
        "    f.write(quantized_tflite_model)\n",
        "\n",
        "print (model_file+\".tflite is saved. copy this file to the robot\")\n",
        "\n",
        "if RunningInCOLAB: \n",
        "    from google.colab import files\n",
        "    files.download(model_file+\".tflite\")"
      ]
    }
  ],
  "metadata": {
    "interpreter": {
      "hash": "b0fa6594d8f4cbf19f97940f81e996739fb7646882a419484c72d19e05852a7e"
    },
    "kernelspec": {
      "display_name": "Python 3.9.12 64-bit",
      "language": "python",
      "name": "python3"
    },
    "language_info": {
      "codemirror_mode": {
        "name": "ipython",
        "version": 3
      },
      "file_extension": ".py",
      "mimetype": "text/x-python",
      "name": "python",
      "nbconvert_exporter": "python",
      "pygments_lexer": "ipython3",
      "version": "3.9.2"
    },
    "orig_nbformat": 4,
    "colab": {
      "name": "RunAll.ipynb",
      "provenance": []
    }
  },
  "nbformat": 4,
  "nbformat_minor": 0
}